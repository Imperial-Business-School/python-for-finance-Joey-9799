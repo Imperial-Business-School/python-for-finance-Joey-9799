{
 "cells": [
  {
   "attachments": {},
   "cell_type": "markdown",
   "metadata": {},
   "source": [
    "# Introduction to Time Series Data\n",
    "\n",
    "Data can come in many different formats, and many differentshapes and sizes. You've maybe heard of tabular data, a format you may be familiar with from working in something like Excel. \n",
    "\n",
    "We will explore two main kinds of tabular data in this module. The first is time series data. Time series data will be *indexed* with a date and time. We'll look a bit more closely at that soon, but for now just think of it as each row having a date or time, rather than a row number."
   ]
  },
  {
   "attachments": {},
   "cell_type": "markdown",
   "metadata": {},
   "source": [
    "## Loading Data\n",
    "\n",
    "One of the most popular packages in Python for working with tabular data is called Pandas. Today we'll get acquainted with Pandas.\n",
    "\n",
    "The first thing we'll do is `import` the `pandas` package. Convention has us use a shortform name - `pd` - because we'll be using the package so often."
   ]
  },
  {
   "cell_type": "code",
   "execution_count": 45,
   "metadata": {},
   "outputs": [],
   "source": [
    "import pandas as pd"
   ]
  },
  {
   "attachments": {},
   "cell_type": "markdown",
   "metadata": {},
   "source": [
    "And below we'll use pandas' `read_csv()` to load the data into a `DataFrame`. DataFrames are the main data structure in pandas for tabular data, and lots of other programming languages use the concept of a DataFrame too! By convention, you'll often see `df` used as a variable name."
   ]
  },
  {
   "cell_type": "code",
   "execution_count": 46,
   "metadata": {},
   "outputs": [],
   "source": [
    "# Load the data\n",
    "df = pd.read_csv(\"/workspaces/python-for-finance-Joey-9799/data/NVDA_2024.csv\")"
   ]
  },
  {
   "attachments": {},
   "cell_type": "markdown",
   "metadata": {},
   "source": [
    "Before we do anything else, it's a good idea to take a look at the DataFrame. Some methods will let us take a closer look at parts of our data. "
   ]
  },
  {
   "cell_type": "code",
   "execution_count": 47,
   "metadata": {},
   "outputs": [
    {
     "name": "stdout",
     "output_type": "stream",
     "text": [
      "         Date      Close       High        Low       Open     Volume\n",
      "0  2024-01-02  48.149918  49.276493  47.577135  49.225514  411254000\n",
      "1  2024-01-03  47.551140  48.165907  47.302233  47.467172  320896000\n",
      "2  2024-01-04  47.979984  48.481795  47.490167  47.749068  306535000\n",
      "3  2024-01-05  49.078564  49.528395  48.287860  48.443804  415039000\n",
      "4  2024-01-08  52.233379  52.255374  49.460423  49.493411  642510000\n",
      "           Date       Close        High         Low        Open     Volume\n",
      "236  2024-12-09  138.797226  139.937120  137.117388  138.957215  189308600\n",
      "237  2024-12-10  135.057587  141.806966  133.777690  138.997212  210020900\n",
      "238  2024-12-11  139.297180  140.157102  135.197567  137.347363  184905200\n",
      "239  2024-12-12  137.327362  138.427267  135.787510  137.067391  159211400\n",
      "240  2024-12-13  134.237656  139.587170  132.527806  138.927227  231514900\n",
      "241  2024-12-16  131.987854  134.387627  130.407998  134.167646  237951100\n",
      "242  2024-12-17  130.378006  131.577893  126.848332  129.078123  259410300\n",
      "243  2024-12-18  128.898148  136.687424  128.268201  133.847689  277444500\n",
      "244  2024-12-19  130.667969  134.017667  129.538083  131.747871  209719200\n",
      "245  2024-12-20  134.687607  135.267555  128.208207  129.798057  306528600\n",
      "246  2024-12-23  139.657150  139.777134  135.107566  136.267463  176053500\n",
      "247  2024-12-24  140.207108  141.886946  138.637245  139.987127  105157000\n",
      "248  2024-12-26  139.917130  140.837058  137.717335  139.687155  116205600\n",
      "249  2024-12-27  136.997391  139.007216  134.697615  138.537258  170582600\n",
      "250  2024-12-30  137.477356  140.257099  134.007674  134.817597  167734700\n"
     ]
    }
   ],
   "source": [
    "# Print the first five rows\n",
    "print(df.head())\n",
    "\n",
    "# Print the last 15 rows\n",
    "print(df.tail(15))\n"
   ]
  },
  {
   "attachments": {},
   "cell_type": "markdown",
   "metadata": {},
   "source": [
    "## Looking at data\n",
    "\n",
    "Other methods and attributes can give us an overview, and give us further insights to our data in general. `shape()` will tell us the number of rows and columns in our data frame, while `info()` will give us some info on the data type (`dtype`) of each column.\n",
    "\n",
    "You'll notice the types are slightly different from the usual Python types - this is because they belong to the `numpy` package, which sits under the hood of `pandas`. We'll look more at `numpy` tomorrow, but for now here is a word about each of the types in our data frame.\n",
    "\n",
    "- `float64` - 64-bit floating point (number with a decimal point)\n",
    "- `int64` - 64-bit integer (whole number)\n",
    "- `object` - other Python data types (strings in this case)"
   ]
  },
  {
   "cell_type": "code",
   "execution_count": 48,
   "metadata": {},
   "outputs": [
    {
     "name": "stdout",
     "output_type": "stream",
     "text": [
      "Rows and columns:  (251, 6)\n",
      "Info\n",
      "<class 'pandas.core.frame.DataFrame'>\n",
      "RangeIndex: 251 entries, 0 to 250\n",
      "Data columns (total 6 columns):\n",
      " #   Column  Non-Null Count  Dtype  \n",
      "---  ------  --------------  -----  \n",
      " 0   Date    251 non-null    object \n",
      " 1   Close   251 non-null    float64\n",
      " 2   High    251 non-null    float64\n",
      " 3   Low     251 non-null    float64\n",
      " 4   Open    251 non-null    float64\n",
      " 5   Volume  251 non-null    int64  \n",
      "dtypes: float64(4), int64(1), object(1)\n",
      "memory usage: 11.9+ KB\n",
      "None\n"
     ]
    }
   ],
   "source": [
    "# Print rows and columns\n",
    "print(\"Rows and columns: \", df.shape)\n",
    "\n",
    "# Print summary info\n",
    "print(\"Info\")\n",
    "print(df.info())\n"
   ]
  },
  {
   "attachments": {},
   "cell_type": "markdown",
   "metadata": {},
   "source": [
    "For a look at some actual data within the data frame, we can use square bracket notation and `iloc` to access columns and rows. The `i` in `iloc` refers to **integer-based indexing**, so looking at a row or column *number*."
   ]
  },
  {
   "cell_type": "code",
   "execution_count": 49,
   "metadata": {},
   "outputs": [
    {
     "name": "stdout",
     "output_type": "stream",
     "text": [
      "0       48.149918\n",
      "1       47.551140\n",
      "2       47.979984\n",
      "3       49.078564\n",
      "4       52.233379\n",
      "          ...    \n",
      "246    139.657150\n",
      "247    140.207108\n",
      "248    139.917130\n",
      "249    136.997391\n",
      "250    137.477356\n",
      "Name: Close, Length: 251, dtype: float64\n",
      "           Open       Close\n",
      "0     49.225514   48.149918\n",
      "1     47.467172   47.551140\n",
      "2     47.749068   47.979984\n",
      "3     48.443804   49.078564\n",
      "4     49.493411   52.233379\n",
      "..          ...         ...\n",
      "246  136.267463  139.657150\n",
      "247  139.987127  140.207108\n",
      "248  139.687155  139.917130\n",
      "249  138.537258  136.997391\n",
      "250  134.817597  137.477356\n",
      "\n",
      "[251 rows x 2 columns]\n",
      "Date      2024-01-02\n",
      "Close      48.149918\n",
      "High       49.276493\n",
      "Low        47.577135\n",
      "Open       49.225514\n",
      "Volume     411254000\n",
      "Name: 0, dtype: object\n",
      "56.813665103138256\n",
      "56.813665103138256\n"
     ]
    }
   ],
   "source": [
    "# Access a column\n",
    "print(df[\"Close\"])\n",
    "\n",
    "# Access multiple columns\n",
    "print(df[[\"Open\", \"Close\"]])\n",
    "\n",
    "# Access the first row\n",
    "print(df.iloc[0])\n",
    "\n",
    "# Access the tenth row and the third column - a specific cell\n",
    "print(df.iloc[9, 2])\n",
    "\n",
    "# However, it is preferable to use .iat for single values\n",
    "print(df.iat[9, 2])\n"
   ]
  },
  {
   "cell_type": "markdown",
   "metadata": {},
   "source": [
    "## Filtering Data\n",
    "\n",
    "In Pandas, we can use a technique known as *boolean indexing* or *masking* to filter rows depending on some condition. We can express conditions using a *boolean expression* or *compound boolean expression* with either `&` (and) *or* `|` (or). These are also called *logical expressions*."
   ]
  },
  {
   "cell_type": "code",
   "execution_count": 50,
   "metadata": {},
   "outputs": [
    {
     "name": "stdout",
     "output_type": "stream",
     "text": [
      "Filter for one row:\n",
      "            Date       Close        High        Low        Open     Volume\n",
      "151  2024-08-08  104.944138  105.474006  97.495969  101.974868  391910000\n"
     ]
    },
    {
     "data": {
      "application/vnd.microsoft.datawrangler.viewer.v0+json": {
       "columns": [
        {
         "name": "index",
         "rawType": "int64",
         "type": "integer"
        },
        {
         "name": "Date",
         "rawType": "object",
         "type": "string"
        },
        {
         "name": "Close",
         "rawType": "float64",
         "type": "float"
        },
        {
         "name": "High",
         "rawType": "float64",
         "type": "float"
        },
        {
         "name": "Low",
         "rawType": "float64",
         "type": "float"
        },
        {
         "name": "Open",
         "rawType": "float64",
         "type": "float"
        },
        {
         "name": "Volume",
         "rawType": "int64",
         "type": "integer"
        }
       ],
       "ref": "c83c1eee-48ca-4ed0-a3f6-7db04e93a745",
       "rows": [
        [
         "152",
         "2024-08-09",
         "104.72418975830078",
         "106.5737323955936",
         "103.40451530940656",
         "105.6139698534446",
         "290844200"
        ],
        [
         "153",
         "2024-08-12",
         "108.9931411743164",
         "111.04263923804828",
         "106.23382655143304",
         "106.29380933051289",
         "325559900"
        ],
        [
         "154",
         "2024-08-13",
         "116.11138153076172",
         "116.201363320323",
         "111.55250759337808",
         "112.41229629244808",
         "312646700"
        ],
        [
         "155",
         "2024-08-14",
         "118.05091094970705",
         "118.57077948335262",
         "114.04189674110648",
         "118.5007970340635",
         "339246400"
        ],
        [
         "156",
         "2024-08-15",
         "122.8297348022461",
         "123.2096384456698",
         "117.4410632059104",
         "118.730746337619",
         "318086700"
        ],
        [
         "157",
         "2024-08-16",
         "124.54930114746094",
         "124.9691958147952",
         "121.15013749579563",
         "121.9099523420536",
         "302589900"
        ]
       ],
       "shape": {
        "columns": 6,
        "rows": 6
       }
      },
      "text/html": [
       "<div>\n",
       "<style scoped>\n",
       "    .dataframe tbody tr th:only-of-type {\n",
       "        vertical-align: middle;\n",
       "    }\n",
       "\n",
       "    .dataframe tbody tr th {\n",
       "        vertical-align: top;\n",
       "    }\n",
       "\n",
       "    .dataframe thead th {\n",
       "        text-align: right;\n",
       "    }\n",
       "</style>\n",
       "<table border=\"1\" class=\"dataframe\">\n",
       "  <thead>\n",
       "    <tr style=\"text-align: right;\">\n",
       "      <th></th>\n",
       "      <th>Date</th>\n",
       "      <th>Close</th>\n",
       "      <th>High</th>\n",
       "      <th>Low</th>\n",
       "      <th>Open</th>\n",
       "      <th>Volume</th>\n",
       "    </tr>\n",
       "  </thead>\n",
       "  <tbody>\n",
       "    <tr>\n",
       "      <th>152</th>\n",
       "      <td>2024-08-09</td>\n",
       "      <td>104.724190</td>\n",
       "      <td>106.573732</td>\n",
       "      <td>103.404515</td>\n",
       "      <td>105.613970</td>\n",
       "      <td>290844200</td>\n",
       "    </tr>\n",
       "    <tr>\n",
       "      <th>153</th>\n",
       "      <td>2024-08-12</td>\n",
       "      <td>108.993141</td>\n",
       "      <td>111.042639</td>\n",
       "      <td>106.233827</td>\n",
       "      <td>106.293809</td>\n",
       "      <td>325559900</td>\n",
       "    </tr>\n",
       "    <tr>\n",
       "      <th>154</th>\n",
       "      <td>2024-08-13</td>\n",
       "      <td>116.111382</td>\n",
       "      <td>116.201363</td>\n",
       "      <td>111.552508</td>\n",
       "      <td>112.412296</td>\n",
       "      <td>312646700</td>\n",
       "    </tr>\n",
       "    <tr>\n",
       "      <th>155</th>\n",
       "      <td>2024-08-14</td>\n",
       "      <td>118.050911</td>\n",
       "      <td>118.570779</td>\n",
       "      <td>114.041897</td>\n",
       "      <td>118.500797</td>\n",
       "      <td>339246400</td>\n",
       "    </tr>\n",
       "    <tr>\n",
       "      <th>156</th>\n",
       "      <td>2024-08-15</td>\n",
       "      <td>122.829735</td>\n",
       "      <td>123.209638</td>\n",
       "      <td>117.441063</td>\n",
       "      <td>118.730746</td>\n",
       "      <td>318086700</td>\n",
       "    </tr>\n",
       "    <tr>\n",
       "      <th>157</th>\n",
       "      <td>2024-08-16</td>\n",
       "      <td>124.549301</td>\n",
       "      <td>124.969196</td>\n",
       "      <td>121.150137</td>\n",
       "      <td>121.909952</td>\n",
       "      <td>302589900</td>\n",
       "    </tr>\n",
       "  </tbody>\n",
       "</table>\n",
       "</div>"
      ],
      "text/plain": [
       "           Date       Close        High         Low        Open     Volume\n",
       "152  2024-08-09  104.724190  106.573732  103.404515  105.613970  290844200\n",
       "153  2024-08-12  108.993141  111.042639  106.233827  106.293809  325559900\n",
       "154  2024-08-13  116.111382  116.201363  111.552508  112.412296  312646700\n",
       "155  2024-08-14  118.050911  118.570779  114.041897  118.500797  339246400\n",
       "156  2024-08-15  122.829735  123.209638  117.441063  118.730746  318086700\n",
       "157  2024-08-16  124.549301  124.969196  121.150137  121.909952  302589900"
      ]
     },
     "execution_count": 50,
     "metadata": {},
     "output_type": "execute_result"
    }
   ],
   "source": [
    "condition = df[\"Date\"] == \"2024-08-08\" # boolean expression\n",
    "\n",
    "\n",
    "# Filter for a row\n",
    "print(\"Filter for one row:\\n\", df[condition])\n",
    "\n",
    "# Filter for rows\n",
    "df[(df[\"Date\"] > \"2024-08-08\") & (df[\"Date\"] < \"2024-08-18\")] # compound\n"
   ]
  },
  {
   "cell_type": "markdown",
   "metadata": {},
   "source": [
    "### Exercise: End of Year\n",
    "\n",
    "Display the data for the entire month of December 2024."
   ]
  },
  {
   "cell_type": "code",
   "execution_count": 51,
   "metadata": {},
   "outputs": [
    {
     "name": "stdout",
     "output_type": "stream",
     "text": [
      "           Date       Close        High         Low        Open     Volume\n",
      "231  2024-12-02  138.607697  140.427396  137.797829  138.807661  171682800\n",
      "232  2024-12-03  140.237442  140.517396  137.927816  138.237764  164414000\n",
      "233  2024-12-04  145.116653  145.766543  140.267427  141.977159  231224300\n",
      "234  2024-12-05  145.046661  146.526521  143.936763  145.096660  172621200\n",
      "235  2024-12-06  142.426895  145.686590  141.296994  144.586700  188505600\n",
      "236  2024-12-09  138.797226  139.937120  137.117388  138.957215  189308600\n",
      "237  2024-12-10  135.057587  141.806966  133.777690  138.997212  210020900\n",
      "238  2024-12-11  139.297180  140.157102  135.197567  137.347363  184905200\n",
      "239  2024-12-12  137.327362  138.427267  135.787510  137.067391  159211400\n",
      "240  2024-12-13  134.237656  139.587170  132.527806  138.927227  231514900\n",
      "241  2024-12-16  131.987854  134.387627  130.407998  134.167646  237951100\n",
      "242  2024-12-17  130.378006  131.577893  126.848332  129.078123  259410300\n",
      "243  2024-12-18  128.898148  136.687424  128.268201  133.847689  277444500\n",
      "244  2024-12-19  130.667969  134.017667  129.538083  131.747871  209719200\n",
      "245  2024-12-20  134.687607  135.267555  128.208207  129.798057  306528600\n",
      "246  2024-12-23  139.657150  139.777134  135.107566  136.267463  176053500\n",
      "247  2024-12-24  140.207108  141.886946  138.637245  139.987127  105157000\n",
      "248  2024-12-26  139.917130  140.837058  137.717335  139.687155  116205600\n",
      "249  2024-12-27  136.997391  139.007216  134.697615  138.537258  170582600\n",
      "250  2024-12-30  137.477356  140.257099  134.007674  134.817597  167734700\n"
     ]
    }
   ],
   "source": [
    "december_data = df[(df['Date'] >= '2024-12-01') & (df['Date'] <= '2024-12-31')]\n",
    "\n",
    "# 显示结果\n",
    "print(december_data)"
   ]
  },
  {
   "cell_type": "markdown",
   "metadata": {},
   "source": [
    "### Exercise: The First Fifty\n",
    "\n",
    "Display the data for the first fifty (50) days of trading in the period."
   ]
  },
  {
   "cell_type": "code",
   "execution_count": 52,
   "metadata": {},
   "outputs": [
    {
     "name": "stdout",
     "output_type": "stream",
     "text": [
      "          Date      Close       High        Low       Open      Volume\n",
      "0   2024-01-02  48.149918  49.276493  47.577135  49.225514   411254000\n",
      "1   2024-01-03  47.551140  48.165907  47.302233  47.467172   320896000\n",
      "2   2024-01-04  47.979984  48.481795  47.490167  47.749068   306535000\n",
      "3   2024-01-05  49.078564  49.528395  48.287860  48.443804   415039000\n",
      "4   2024-01-08  52.233379  52.255374  49.460423  49.493411   642510000\n",
      "5   2024-01-09  53.120052  54.304609  51.670596  52.381331   773100000\n",
      "6   2024-01-10  54.329597  54.579504  53.468921  53.595876   533796000\n",
      "7   2024-01-11  54.801418  55.325224  53.539895  54.978354   596759000\n",
      "8   2024-01-12  54.689457  54.949361  54.309602  54.599491   352994000\n",
      "9   2024-01-16  56.360836  56.813665  54.879394  54.997350   449580000\n",
      "10  2024-01-17  56.031960  56.449802  54.719453  56.325848   474394000\n",
      "11  2024-01-18  57.085564  57.578379  56.085939  57.238506   491650000\n",
      "12  2024-01-19  59.468670  59.477665  57.203518  57.967231   543501000\n",
      "13  2024-01-22  59.631607  60.308355  59.047827  60.026459   452955000\n",
      "14  2024-01-23  59.850529  59.887514  58.563010  59.547641   294654000\n",
      "15  2024-01-24  61.338966  62.825408  59.915501  60.281365   560271000\n",
      "16  2024-01-25  61.593868  62.695456  60.827154  62.326591   482777000\n",
      "17  2024-01-26  61.008091  61.759811  60.550267  60.937118   390309000\n",
      "18  2024-01-29  62.441547  62.465537  60.884134  61.209009   348733000\n",
      "19  2024-01-30  62.750431  63.469163  62.236624  62.876387   410735000\n",
      "20  2024-01-31  61.503902  62.245624  60.677213  61.416933   453795000\n",
      "21  2024-02-01  63.003342  63.167282  61.626860  62.076688   369146000\n",
      "22  2024-02-02  66.135170  66.575000  63.666092  63.949986   476578000\n",
      "23  2024-02-05  69.305977  69.470916  67.179776  68.199390   680078000\n",
      "24  2024-02-06  68.197395  69.727819  66.275121  69.603865   683111000\n",
      "25  2024-02-07  70.072685  70.193642  67.574623  68.293355   495575000\n",
      "26  2024-02-08  69.614853  70.767420  69.428926  70.047689   414422000\n",
      "27  2024-02-09  72.105934  72.157909  70.185650  70.506528   436637000\n",
      "28  2024-02-12  72.220879  74.582990  71.223252  72.572744   613710000\n",
      "29  2024-02-13  72.100929  73.422432  69.593875  70.373581   602580000\n",
      "30  2024-02-14  73.872269  74.208141  71.911007  73.174533   504917000\n",
      "31  2024-02-15  72.630714  73.947221  72.372816  73.841266   420122000\n",
      "32  2024-02-16  72.585739  74.374069  72.473782  74.072180   495327000\n",
      "33  2024-02-20  69.425926  71.928984  67.708569  71.919985   704833000\n",
      "34  2024-02-21  67.446678  68.862147  66.223138  67.980474   690298000\n",
      "35  2024-02-22  78.508522  78.545503  74.192142  74.996840   865100000\n",
      "36  2024-02-23  78.787407  82.363060  77.540874  80.759666   829388000\n",
      "37  2024-02-26  79.062317  80.615734  78.475532  79.670083   503973000\n",
      "38  2024-02-27  78.671448  79.450162  77.133032  79.351193   391705000\n",
      "39  2024-02-28  77.633850  78.903370  77.096050  77.590867   393110000\n",
      "40  2024-02-29  79.082306  79.959975  78.320591  79.064315   507289000\n",
      "41  2024-03-01  82.248108  82.269104  79.405174  79.969964   479135000\n",
      "42  2024-03-04  85.205002  87.662079  83.687574  84.098415   615616000\n",
      "43  2024-03-05  85.935760  86.068720  83.389600  85.241988   520639000\n",
      "44  2024-03-06  88.670860  89.694526  87.001411  87.993089   582520000\n",
      "45  2024-03-07  92.638557  92.736525  89.572564  90.128381   608119000\n",
      "46  2024-03-08  87.499252  97.368012  86.477585  95.106754  1142269000\n",
      "47  2024-03-11  85.745827  88.767829  84.138353  86.400610   678364000\n",
      "48  2024-03-12  91.882812  91.929794  86.121705  88.020083   668075000\n",
      "49  2024-03-13  90.858139  91.473934  88.405942  91.025084   635713000\n"
     ]
    }
   ],
   "source": [
    "## YOUR CODE GOES HERE\n",
    "\n",
    "df = df.sort_values('Date')\n",
    "\n",
    "# 取前50个交易日的数据\n",
    "first_50_trading_days = df.head(50)\n",
    "\n",
    "# 显示结果\n",
    "print(first_50_trading_days)\n"
   ]
  },
  {
   "cell_type": "markdown",
   "metadata": {},
   "source": [
    "### Optional Exercise: Big Days\n",
    "\n",
    "Display rows where trading volume exceeded 800 000 000."
   ]
  },
  {
   "cell_type": "code",
   "execution_count": 53,
   "metadata": {},
   "outputs": [
    {
     "name": "stdout",
     "output_type": "stream",
     "text": [
      "          Date       Close        High         Low        Open      Volume\n",
      "35  2024-02-22   78.508522   78.545503   74.192142   74.996840   865100000\n",
      "36  2024-02-23   78.787407   82.363060   77.540874   80.759666   829388000\n",
      "46  2024-03-08   87.499252   97.368012   86.477585   95.106754  1142269000\n",
      "75  2024-04-19   76.174973   84.296305   75.581173   83.122695   875198000\n",
      "99  2024-05-23  103.764908  106.285076  101.486649  101.994486   835065000\n"
     ]
    }
   ],
   "source": [
    "## YOUR CODE GOES HERE\n",
    "\n",
    "# 假设成交量的列名为 'Volume'（如果不同请替换）\n",
    "# 筛选成交量大于8亿的行\n",
    "high_volume_days = df[df['Volume'] > 800_000_000]\n",
    "\n",
    "# 显示结果\n",
    "print(high_volume_days)\n"
   ]
  },
  {
   "attachments": {},
   "cell_type": "markdown",
   "metadata": {},
   "source": [
    "## Setting the Index\n",
    "\n",
    "In a DataFrame, each row is assigned a unique index value. By default, this is just a number (starting at 0). When it makes sense, we can choose one of the other columns to be an index. For time series data, where each row represents a different point in time, we'll set our `Date` column as the index. This will make it easier for us to work with the data, and can speed up other operations later on.\n",
    "\n"
   ]
  },
  {
   "cell_type": "code",
   "execution_count": 71,
   "metadata": {},
   "outputs": [
    {
     "name": "stdout",
     "output_type": "stream",
     "text": [
      "Index(['Date', 'Close', 'High', 'Low', 'Open', 'Volume'], dtype='object')\n",
      "Index(['Date', 'Close', 'High', 'Low', 'Open', 'Volume'], dtype='object')\n"
     ]
    }
   ],
   "source": [
    "df = pd.read_csv('/workspaces/python-for-finance-Joey-9799/data/NVDA_2024.csv', header=0)\n",
    "print(df.columns)\n",
    "\n",
    "# Convert the 'Date' column to a datetime object\n",
    "df['Date'] = pd.to_datetime(df['Date'])\n",
    "\n",
    "# Set the 'Date' column as the index\n",
    "df.set_index('Date', inplace=True)\n",
    "df = pd.read_csv('/workspaces/python-for-finance-Joey-9799/data/NVDA_2024.csv', header=0)\n",
    "print(df.columns)"
   ]
  },
  {
   "attachments": {},
   "cell_type": "markdown",
   "metadata": {},
   "source": [
    "We convert the 'Date' column to a datetime object because pandas can recognise and efficiently work with datetime objects. We set the `Date` column as the index because in time-series data like ours, operations are time-based."
   ]
  },
  {
   "attachments": {},
   "cell_type": "markdown",
   "metadata": {},
   "source": [
    "With the index set, we can now use it to access different portions of our data a little bit more easily. Because our indices are labeled, we can use `loc` for **label-based indexing**."
   ]
  },
  {
   "cell_type": "code",
   "execution_count": 77,
   "metadata": {},
   "outputs": [
    {
     "name": "stdout",
     "output_type": "stream",
     "text": [
      "Index type: <class 'pandas.core.indexes.datetimes.DatetimeIndex'>\n",
      "Sample dates: DatetimeIndex(['2024-01-02', '2024-01-03', '2024-01-04', '2024-01-05',\n",
      "               '2024-01-08'],\n",
      "              dtype='datetime64[ns]', name='Date', freq=None)\n"
     ]
    }
   ],
   "source": [
    "df = pd.read_csv('/workspaces/python-for-finance-Joey-9799/data/NVDA_2024.csv')\n",
    "\n",
    "# 清理列名空格（如有）\n",
    "df.columns = df.columns.str.strip()\n",
    "\n",
    "# 将 Date 转换为 datetime 并设为索引\n",
    "df['Date'] = pd.to_datetime(df['Date'])\n",
    "df.set_index('Date', inplace=True)\n",
    "\n",
    "# 再次检查索引类型\n",
    "print(\"Index type:\", type(df.index))\n",
    "print(\"Sample dates:\", df.index[:5])"
   ]
  },
  {
   "cell_type": "code",
   "execution_count": 78,
   "metadata": {},
   "outputs": [
    {
     "name": "stdout",
     "output_type": "stream",
     "text": [
      "Close     1.049441e+02\n",
      "High      1.054740e+02\n",
      "Low       9.749597e+01\n",
      "Open      1.019749e+02\n",
      "Volume    3.919100e+08\n",
      "Name: 2024-08-08 00:00:00, dtype: float64\n",
      "104.9441375732422\n",
      "104.9441375732422\n",
      "                 Close        High         Low        Open     Volume\n",
      "Date                                                                 \n",
      "2024-08-08  104.944138  105.474006   97.495969  101.974868  391910000\n",
      "2024-08-09  104.724190  106.573732  103.404515  105.613970  290844200\n",
      "2024-08-12  108.993141  111.042639  106.233827  106.293809  325559900\n"
     ]
    }
   ],
   "source": [
    "\n",
    "# Access a row\n",
    "print(df.loc['2024-08-08'])\n",
    "\n",
    "# Access a specific cell - we can use .loc\n",
    "print(df.loc['2024-08-08', 'Close'])\n",
    "\n",
    "# But it is preferable to use .at for a single cell\n",
    "print(df.at['2024-08-08', 'Close'])\n",
    "\n",
    "# Access a range\n",
    "print(df.loc[\"2024-08-08\":\"2024-08-12\"])\n"
   ]
  },
  {
   "cell_type": "markdown",
   "metadata": {},
   "source": [
    "## Getting the Index\n",
    "\n",
    "Oftentimes it is helpful to retrieve the index of the dataframe for a given row or rows. Let's say we wanted to see the dates where Nvidia's `Volume` was less than 150 000 000. After some smart boolean indexing, we can look at the `index` attribute."
   ]
  },
  {
   "cell_type": "code",
   "execution_count": 79,
   "metadata": {},
   "outputs": [
    {
     "data": {
      "text/plain": [
       "DatetimeIndex(['2024-11-29', '2024-12-24', '2024-12-26'], dtype='datetime64[ns]', name='Date', freq=None)"
      ]
     },
     "execution_count": 79,
     "metadata": {},
     "output_type": "execute_result"
    }
   ],
   "source": [
    "dates = df[df[\"Volume\"] < 150_000_000].index\n",
    "dates"
   ]
  },
  {
   "cell_type": "markdown",
   "metadata": {},
   "source": [
    "Because of our conversion to datetime when we first loaded the dataframe, we can pull specific information out of the index."
   ]
  },
  {
   "cell_type": "code",
   "execution_count": 80,
   "metadata": {},
   "outputs": [
    {
     "name": "stdout",
     "output_type": "stream",
     "text": [
      "Days of the dates Index(['Friday', 'Tuesday', 'Thursday'], dtype='object', name='Date')\n",
      "Quarter of the dates PeriodIndex(['2024Q4', '2024Q4', '2024Q4'], dtype='period[Q-DEC]', name='Date')\n",
      "Dates for humans:\n",
      " ['29 November 2024', '24 December 2024', '26 December 2024']\n"
     ]
    }
   ],
   "source": [
    "print(f\"Days of the dates {dates.day_name()}\")\n",
    "\n",
    "print(f\"Quarter of the dates {dates.to_period(\"Q\")}\")\n",
    "\n",
    "print(\"Dates for humans:\\n\", dates.strftime(\"%d %B %Y\").to_list())"
   ]
  },
  {
   "attachments": {},
   "cell_type": "markdown",
   "metadata": {},
   "source": [
    "## Aggregations\n",
    "\n",
    "There are many basic operations we can do with pandas, such as calculating the mean of a column, the maximum of a column, and so on. We generally refer to these as *aggregations* since they reduce multiple values to one summary value.\n"
   ]
  },
  {
   "cell_type": "code",
   "execution_count": 81,
   "metadata": {},
   "outputs": [
    {
     "name": "stdout",
     "output_type": "stream",
     "text": [
      "Mean close 107.6940938638026\n",
      "Max volume 1142269000\n",
      "Max volume day 2024-03-08 00:00:00\n",
      "High/low COLUMN average\n",
      "Low     105.493447\n",
      "High    109.713949\n",
      "dtype: float64\n",
      "High/low ROW average\n",
      "Date\n",
      "2024-01-02     48.426814\n",
      "2024-01-03     47.734070\n",
      "2024-01-04     47.985981\n",
      "2024-01-05     48.908128\n",
      "2024-01-08     50.857898\n",
      "                 ...    \n",
      "2024-12-23    137.442350\n",
      "2024-12-24    140.262095\n",
      "2024-12-26    139.277197\n",
      "2024-12-27    136.852415\n",
      "2024-12-30    137.132386\n",
      "Length: 251, dtype: float64\n"
     ]
    }
   ],
   "source": [
    "# Calculate the mean of 'Close' prices\n",
    "print(\"Mean close\", df['Close'].mean())\n",
    "\n",
    "# Find the maximum volume traded\n",
    "print(\"Max volume\", df['Volume'].max())\n",
    "\n",
    "# Find the day that had the max volume traded\n",
    "print(\"Max volume day\", df['Volume'].idxmax())\n",
    "\n",
    "# Be careful when using these operations on multiple columns\n",
    "# We can calculate the mean of the high and low column like so\n",
    "print(\"High/low COLUMN average\")\n",
    "print(df[[\"Low\", \"High\"]].mean())\n",
    "\n",
    "# Or we can calculate the mean high low of each row\n",
    "print(\"High/low ROW average\")\n",
    "print(df[[\"Low\", \"High\"]].mean(axis=1))"
   ]
  },
  {
   "attachments": {},
   "cell_type": "markdown",
   "metadata": {},
   "source": [
    "### Exercise: nVidia Quarters\n",
    "\n",
    "Did Q3 or Q4 have more trading days where the `Close` price was above the annual average (i.e. above the mean)?"
   ]
  },
  {
   "cell_type": "code",
   "execution_count": 84,
   "metadata": {},
   "outputs": [
    {
     "name": "stdout",
     "output_type": "stream",
     "text": [
      "Q3: 53 days above annual mean\n",
      "Q4: 63 days above annual mean\n",
      "Q4 had more days above the annual average Close price.\n"
     ]
    }
   ],
   "source": [
    "## YOUR CODE GOES HERE\n",
    "import pandas as pd\n",
    "\n",
    "# 读取数据并设置日期索引\n",
    "df = pd.read_csv('/workspaces/python-for-finance-Joey-9799/data/NVDA_2024.csv')\n",
    "df.columns = df.columns.str.strip()\n",
    "df['Date'] = pd.to_datetime(df['Date'])\n",
    "df.set_index('Date', inplace=True)\n",
    "\n",
    "# 计算全年平均收盘价\n",
    "annual_mean = df['Close'].mean()\n",
    "\n",
    "# 创建一个布尔列：True 表示该天收盘价高于年均值\n",
    "df['Above_Mean'] = df['Close'] > annual_mean\n",
    "\n",
    "# 筛选 Q3 和 Q4\n",
    "q3 = df['2024-07':'2024-09']\n",
    "q4 = df['2024-10':'2024-12']\n",
    "\n",
    "# 计算每个季度有多少天收盘价高于年均值\n",
    "q3_count = q3['Above_Mean'].sum()\n",
    "q4_count = q4['Above_Mean'].sum()\n",
    "\n",
    "# 输出结果\n",
    "print(f\"Q3: {q3_count} days above annual mean\")\n",
    "print(f\"Q4: {q4_count} days above annual mean\")\n",
    "\n",
    "if q3_count > q4_count:\n",
    "    print(\"Q3 had more days above the annual average Close price.\")\n",
    "elif q4_count > q3_count:\n",
    "    print(\"Q4 had more days above the annual average Close price.\")\n",
    "else:\n",
    "    print(\"Q3 and Q4 had the same number of days above the annual average.\")\n"
   ]
  },
  {
   "cell_type": "markdown",
   "metadata": {},
   "source": [
    "### Exercise: March Madness\n",
    "\n",
    "Looking only at the month of March, print the following information:\n",
    "\n",
    "* First opening price of the period\n",
    "* Last close price of the period\n",
    "* Total volume traded over the period"
   ]
  },
  {
   "cell_type": "code",
   "execution_count": null,
   "metadata": {},
   "outputs": [
    {
     "name": "stdout",
     "output_type": "stream",
     "text": [
      "March 2024 - nVidia Trading Summary\n",
      "First opening price: $79.97\n",
      "Last closing price: $90.33\n",
      "Total volume traded: 12,149,218,000\n"
     ]
    }
   ],
   "source": [
    "## YOUR CODE GOES HERE\n",
    "\n",
    "\n",
    "df = pd.read_csv('/workspaces/python-for-finance-Joey-9799/data/NVDA_2024.csv')\n",
    "df.columns = df.columns.str.strip()\n",
    "df['Date'] = pd.to_datetime(df['Date'])\n",
    "df.set_index('Date', inplace=True)\n",
    "# 筛选 3 月数据\n",
    "march = df.loc['2024-03']\n",
    "\n",
    "# 提取所需信息\n",
    "first_open = march['Open'].iloc[0]\n",
    "last_close = march['Close'].iloc[-1]\n",
    "total_volume = march['Volume'].sum()\n",
    "\n",
    "# 打印结果\n",
    "print(\"March 2024 - nVidia Trading Summary\")\n",
    "print(f\"First opening price: ${first_open:.2f}\")\n",
    "print(f\"Last closing price: ${last_close:.2f}\")\n",
    "print(f\"Total volume traded: {total_volume:,}\") "
   ]
  }
 ],
 "metadata": {
  "kernelspec": {
   "display_name": "Python 3",
   "language": "python",
   "name": "python3"
  },
  "language_info": {
   "codemirror_mode": {
    "name": "ipython",
    "version": 3
   },
   "file_extension": ".py",
   "mimetype": "text/x-python",
   "name": "python",
   "nbconvert_exporter": "python",
   "pygments_lexer": "ipython3",
   "version": "3.12.1"
  }
 },
 "nbformat": 4,
 "nbformat_minor": 2
}
